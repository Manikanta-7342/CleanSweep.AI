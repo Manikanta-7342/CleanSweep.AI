{
 "cells": [
  {
   "cell_type": "code",
   "execution_count": 11,
   "id": "c333d88b",
   "metadata": {},
   "outputs": [
    {
     "name": "stdout",
     "output_type": "stream",
     "text": [
      "Done\n"
     ]
    }
   ],
   "source": [
    "import yagmail\n",
    "from geopy.geocoders import Nominatim\n",
    "geolocator = Nominatim(user_agent=\"geoapiExercises\")\n",
    "\n",
    "def email_generate(t1,t2,lattitude,longitude):\n",
    "    tval=t2-t1\n",
    "    Longitude=longitude\n",
    "    Lattitude=lattitude\n",
    "    location = geolocator.reverse(Lattitude+\",\"+Longitude)\n",
    "    address = location.raw['address']\n",
    "    google_maps_link = f\"https://www.google.com/maps/search/?api=1&query={float(Lattitude)},{float(Longitude)}\"\n",
    "    from_address = \"mgakhil04@gmail.com\"\n",
    "    to_address = \"nishank.satish@gmail.com\"\n",
    "    colors=[\"https://postimg.cc/crW9NPWj\",\"https://drive.google.com/file/d/1pCq1V0NDu2FlXPA9OMVmGLPK2Eid72H0/view?usp=share_link\",\"https://drive.google.com/file/d/1u7J-wRXpaqVjj1M2uz54LwPFnkluWWm2/view?usp=share_link\",\"https://drive.google.com/file/d/1VuEYArf__gTI4Wvug0N3l3gcULZx-lcP/view?usp=share_link\"]\n",
    "    subject = \"Test Email\"\n",
    "    case=\"Attention Required!!\"\n",
    "    address=list(address.values())\n",
    "    address=','.join(address)\n",
    "    \n",
    "#     body = \"This is a test email sent using Python and yagmail.\n",
    "#     \"\n",
    "    if(tval>=24):\n",
    "        i=0\n",
    "    elif(tval>=12 and tval <24):\n",
    "        i=1\n",
    "    else:\n",
    "        i=2\n",
    "    body=f\"<img src={colors[i]}/>\"\n",
    "    html= f\"<h1>{case}</h1> <h2> Address: {address}</h2><h3>Location:</h3><a href={google_maps_link}>Click here to visit the website</a><h3>time the Scrap was detected:{t1}\"\n",
    "\n",
    "    # Connect to your Gmail account and send the email\n",
    "    yag = yagmail.SMTP(from_address,\"ppvmlvuhsiiprhox\")\n",
    "    contents=[html,yagmail.inline(\"C:\\\\Users\\\\91939\\\\Downloads\\\\download.jpeg\")]\n",
    "    yag.send(to=to_address, subject=subject, contents=contents)\n",
    "    print(\"Done\")\n",
    "email_generate(11,21,\"12.957771112514944\",\"77.58046134865555\")"
   ]
  }
 ],
 "metadata": {
  "kernelspec": {
   "display_name": "Python 3 (ipykernel)",
   "language": "python",
   "name": "python3"
  },
  "language_info": {
   "codemirror_mode": {
    "name": "ipython",
    "version": 3
   },
   "file_extension": ".py",
   "mimetype": "text/x-python",
   "name": "python",
   "nbconvert_exporter": "python",
   "pygments_lexer": "ipython3",
   "version": "3.9.13"
  }
 },
 "nbformat": 4,
 "nbformat_minor": 5
}
